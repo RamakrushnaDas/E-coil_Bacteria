{
 "cells": [
  {
   "cell_type": "code",
   "execution_count": 65,
   "id": "32861e14",
   "metadata": {},
   "outputs": [],
   "source": [
    "import numpy as np\n",
    "def solve_differential_equation(x):\n",
    "    y = 2**x\n",
    "    return y\n",
    "\n",
    "\n",
    "x_values = [1, 2, 6, 7, 8, 9, 11, 12]\n",
    "x_array_values= np.array(x_values)\n",
    "\n",
    "y_values = solve_differential_equation(x_array_values)\n",
    "\n",
    "\n",
    "def strunge_rule(data):\n",
    "    length_of_Data=(len(data))\n",
    "    calculating_bins= int(np.log2(length_of_Data) + 1)\n",
    "    return calculating_bins"
   ]
  },
  {
   "cell_type": "code",
   "execution_count": 68,
   "id": "7bff276c",
   "metadata": {},
   "outputs": [
    {
     "data": {
      "text/plain": [
       "8"
      ]
     },
     "execution_count": 68,
     "metadata": {},
     "output_type": "execute_result"
    }
   ],
   "source": [
    "y_values=solve_differential_equation(x_array_values)\n",
    "len(y_values)"
   ]
  },
  {
   "cell_type": "code",
   "execution_count": 69,
   "id": "11711aa5",
   "metadata": {},
   "outputs": [
    {
     "data": {
      "text/plain": [
       "4"
      ]
     },
     "execution_count": 69,
     "metadata": {},
     "output_type": "execute_result"
    }
   ],
   "source": [
    "opti_bins=strunge_rule(y_values)\n",
    "opti_bins"
   ]
  },
  {
   "cell_type": "code",
   "execution_count": 70,
   "id": "905d9af3",
   "metadata": {},
   "outputs": [
    {
     "data": {
      "text/plain": [
       "(array([6, 1, 0, 1], dtype=int64),\n",
       " array([2.0000e+00, 1.0255e+03, 2.0490e+03, 3.0725e+03, 4.0960e+03]))"
      ]
     },
     "execution_count": 70,
     "metadata": {},
     "output_type": "execute_result"
    }
   ],
   "source": [
    "calculating_frequency = np.histogram(y_values,opti_bins)\n",
    "calculating_frequency"
   ]
  },
  {
   "cell_type": "code",
   "execution_count": 71,
   "id": "2d41ffe3",
   "metadata": {},
   "outputs": [
    {
     "name": "stdout",
     "output_type": "stream",
     "text": [
      "[6 1 0 1]\n",
      "[2.0000e+00 1.0255e+03 2.0490e+03 3.0725e+03 4.0960e+03]\n"
     ]
    }
   ],
   "source": [
    "fre , ranges = np.histogram(y_values,opti_bins)\n",
    "print(fre)\n",
    "print(ranges) "
   ]
  },
  {
   "cell_type": "code",
   "execution_count": 72,
   "id": "2726719d",
   "metadata": {},
   "outputs": [
    {
     "name": "stdout",
     "output_type": "stream",
     "text": [
      "         Bin Range  Frequency\n",
      "0     2.0 – 1025.5          6\n",
      "1  1025.5 – 2049.0          1\n",
      "2  2049.0 – 3072.5          0\n",
      "3  3072.5 – 4096.0          1\n"
     ]
    }
   ],
   "source": [
    "bin_ranges = [f\"{ranges[i]:.1f} – {ranges[i+1]:.1f}\" for i in range(len(fre))]\n",
    "\n",
    "hist_df = pd.DataFrame({\n",
    "    \"Bin Range\": bin_ranges,\n",
    "    \"Frequency\": fre\n",
    "})\n",
    "\n",
    "print(hist_df)"
   ]
  },
  {
   "cell_type": "code",
   "execution_count": 40,
   "id": "688f06a4",
   "metadata": {},
   "outputs": [],
   "source": [
    "releative_freq=hist_df['Frequency'].values / len(y_values)"
   ]
  },
  {
   "cell_type": "code",
   "execution_count": 73,
   "id": "26e14721",
   "metadata": {},
   "outputs": [
    {
     "data": {
      "image/png": "[encoded data removed]",
      "text/plain": [
       "<Figure size 640x480 with 1 Axes>"
      ]
     },
     "metadata": {},
     "output_type": "display_data"
    }
   ],
   "source": [
    "import matplotlib.pyplot as plt\n",
    "%matplotlib inline \n",
    "plt.hist(y_values,opti_bins,density=True)\n",
    "plt.xlabel(\"Data\")\n",
    "plt.ylabel('releative frequency')\n",
    "plt.show()\n"
   ]
  }
 ],
 "metadata": {
  "kernelspec": {
   "display_name": "Python 3 (ipykernel)",
   "language": "python",
   "name": "python3"
  },
  "language_info": {
   "codemirror_mode": {
    "name": "ipython",
    "version": 3
   },
   "file_extension": ".py",
   "mimetype": "text/x-python",
   "name": "python",
   "nbconvert_exporter": "python",
   "pygments_lexer": "ipython3",
   "version": "3.9.13"
  }
 },
 "nbformat": 4,
 "nbformat_minor": 5
}
